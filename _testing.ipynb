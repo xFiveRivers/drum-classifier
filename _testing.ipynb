{
 "cells": [
  {
   "cell_type": "code",
   "execution_count": 1,
   "metadata": {},
   "outputs": [],
   "source": [
    "import torch\n",
    "import torch.functional as F\n",
    "import torch.nn as nn\n",
    "import torch.optim as optim\n",
    "\n",
    "import torchaudio\n",
    "import torchaudio.transforms as T\n",
    "import matplotlib.pyplot as plt\n",
    "import librosa\n",
    "\n",
    "from src.utility import EDA\n",
    "eda = EDA()"
   ]
  },
  {
   "cell_type": "code",
   "execution_count": 2,
   "metadata": {},
   "outputs": [
    {
     "name": "stderr",
     "output_type": "stream",
     "text": [
      "/home/vikram-linux/anaconda3/envs/drum-tracker/lib/python3.12/site-packages/torchaudio/functional/functional.py:584: UserWarning: At least one mel filterbank has all zero values. The value for `n_mels` (256) may be set too high. Or, the value for `n_freqs` (129) may be set too low.\n",
      "  warnings.warn(\n"
     ]
    }
   ],
   "source": [
    "from src.classes import DrumTrackerDataset\n",
    "dataset = DrumTrackerDataset()"
   ]
  },
  {
   "cell_type": "code",
   "execution_count": 3,
   "metadata": {},
   "outputs": [
    {
     "data": {
      "text/plain": [
       "torch.Size([1, 256, 6])"
      ]
     },
     "execution_count": 3,
     "metadata": {},
     "output_type": "execute_result"
    }
   ],
   "source": [
    "signal, label = dataset.__getitem__(0)\n",
    "signal.size()"
   ]
  },
  {
   "cell_type": "code",
   "execution_count": 4,
   "metadata": {},
   "outputs": [
    {
     "data": {
      "image/png": "[encoded data removed]",
      "text/plain": [
       "<Figure size 640x480 with 1 Axes>"
      ]
     },
     "metadata": {},
     "output_type": "display_data"
    }
   ],
   "source": [
    "eda.plot_spectrogram(signal.squeeze(0))"
   ]
  },
  {
   "cell_type": "code",
   "execution_count": 5,
   "metadata": {},
   "outputs": [],
   "source": [
    "from src.classes import ModelTrainer, CNN_Model\n",
    "cnn_model = CNN_Model()\n",
    "loss_fn = nn.CrossEntropyLoss()\n",
    "optim_fn = optim.Adam(params=cnn_model.parameters(), lr=0.01)\n",
    "trainer = ModelTrainer(cnn_model, loss_fn, optim_fn, dataset)\n"
   ]
  },
  {
   "cell_type": "code",
   "execution_count": 6,
   "metadata": {},
   "outputs": [
    {
     "name": "stdout",
     "output_type": "stream",
     "text": [
      "Training Device = cuda\n",
      "Random seed = 42\n",
      "Splitting dataset...\n",
      "Initializing dataloader for training...\n"
     ]
    },
    {
     "ename": "ValueError",
     "evalue": "batch_size should be a positive integer value, but got batch_size=(32,)",
     "output_type": "error",
     "traceback": [
      "\u001b[0;31m---------------------------------------------------------------------------\u001b[0m",
      "\u001b[0;31mValueError\u001b[0m                                Traceback (most recent call last)",
      "Cell \u001b[0;32mIn[6], line 1\u001b[0m\n\u001b[0;32m----> 1\u001b[0m trainer\u001b[38;5;241m.\u001b[39mtrain_model()\n",
      "File \u001b[0;32m~/Documents/Github/drum-tracker/src/classes/model_trainer.py:33\u001b[0m, in \u001b[0;36mModelTrainer.train_model\u001b[0;34m(self)\u001b[0m\n\u001b[1;32m     31\u001b[0m \u001b[38;5;28;01mdef\u001b[39;00m \u001b[38;5;21mtrain_model\u001b[39m(\u001b[38;5;28mself\u001b[39m):\n\u001b[1;32m     32\u001b[0m     \u001b[38;5;28mself\u001b[39m\u001b[38;5;241m.\u001b[39m_initalize_device()\n\u001b[0;32m---> 33\u001b[0m     \u001b[38;5;28mself\u001b[39m\u001b[38;5;241m.\u001b[39m_initialize_dataloaders()\n\u001b[1;32m     34\u001b[0m     \u001b[38;5;28mprint\u001b[39m(\u001b[38;5;124mf\u001b[39m\u001b[38;5;124m'\u001b[39m\u001b[38;5;124mBeginning training with \u001b[39m\u001b[38;5;132;01m{\u001b[39;00m\u001b[38;5;28mself\u001b[39m\u001b[38;5;241m.\u001b[39mEPOCHS\u001b[38;5;132;01m}\u001b[39;00m\u001b[38;5;124m epochs...\u001b[39m\u001b[38;5;124m'\u001b[39m)\n\u001b[1;32m     36\u001b[0m     \u001b[38;5;28;01mfor\u001b[39;00m epoch \u001b[38;5;129;01min\u001b[39;00m \u001b[38;5;28mrange\u001b[39m(\u001b[38;5;28mself\u001b[39m\u001b[38;5;241m.\u001b[39mEPOCHS):\n\u001b[1;32m     37\u001b[0m         \u001b[38;5;66;03m# Set model to training mode\u001b[39;00m\n",
      "File \u001b[0;32m~/Documents/Github/drum-tracker/src/classes/model_trainer.py:100\u001b[0m, in \u001b[0;36mModelTrainer._initialize_dataloaders\u001b[0;34m(self)\u001b[0m\n\u001b[1;32m     93\u001b[0m train_data, test_data \u001b[38;5;241m=\u001b[39m random_split(\n\u001b[1;32m     94\u001b[0m     \u001b[38;5;28mself\u001b[39m\u001b[38;5;241m.\u001b[39mdataset, \n\u001b[1;32m     95\u001b[0m     [\u001b[38;5;28mself\u001b[39m\u001b[38;5;241m.\u001b[39mtrain_split, \u001b[38;5;28mself\u001b[39m\u001b[38;5;241m.\u001b[39mtest_split], \n\u001b[1;32m     96\u001b[0m     generator\u001b[38;5;241m=\u001b[39mgenerator\n\u001b[1;32m     97\u001b[0m )\n\u001b[1;32m     99\u001b[0m \u001b[38;5;28mprint\u001b[39m(\u001b[38;5;124m'\u001b[39m\u001b[38;5;124mInitializing dataloader for training...\u001b[39m\u001b[38;5;124m'\u001b[39m)\n\u001b[0;32m--> 100\u001b[0m \u001b[38;5;28mself\u001b[39m\u001b[38;5;241m.\u001b[39mtrain_dataloader \u001b[38;5;241m=\u001b[39m DataLoader(\n\u001b[1;32m    101\u001b[0m     train_data,\n\u001b[1;32m    102\u001b[0m     \u001b[38;5;28mself\u001b[39m\u001b[38;5;241m.\u001b[39mBATCH_SIZE,\n\u001b[1;32m    103\u001b[0m     generator\u001b[38;5;241m=\u001b[39mgenerator)\n\u001b[1;32m    105\u001b[0m \u001b[38;5;28mprint\u001b[39m(\u001b[38;5;124m'\u001b[39m\u001b[38;5;124mInitializing dataloader for testing...\u001b[39m\u001b[38;5;124m'\u001b[39m)\n\u001b[1;32m    106\u001b[0m \u001b[38;5;28mself\u001b[39m\u001b[38;5;241m.\u001b[39mtest_dataloader \u001b[38;5;241m=\u001b[39m DataLoader(\n\u001b[1;32m    107\u001b[0m     test_data,\n\u001b[1;32m    108\u001b[0m     \u001b[38;5;28mself\u001b[39m\u001b[38;5;241m.\u001b[39mBATCH_SIZE,\n\u001b[1;32m    109\u001b[0m     generator\u001b[38;5;241m=\u001b[39mgenerator)\n",
      "File \u001b[0;32m~/anaconda3/envs/drum-tracker/lib/python3.12/site-packages/torch/utils/data/dataloader.py:356\u001b[0m, in \u001b[0;36mDataLoader.__init__\u001b[0;34m(self, dataset, batch_size, shuffle, sampler, batch_sampler, num_workers, collate_fn, pin_memory, drop_last, timeout, worker_init_fn, multiprocessing_context, generator, prefetch_factor, persistent_workers, pin_memory_device)\u001b[0m\n\u001b[1;32m    352\u001b[0m             sampler \u001b[38;5;241m=\u001b[39m SequentialSampler(dataset)  \u001b[38;5;66;03m# type: ignore[arg-type]\u001b[39;00m\n\u001b[1;32m    354\u001b[0m \u001b[38;5;28;01mif\u001b[39;00m batch_size \u001b[38;5;129;01mis\u001b[39;00m \u001b[38;5;129;01mnot\u001b[39;00m \u001b[38;5;28;01mNone\u001b[39;00m \u001b[38;5;129;01mand\u001b[39;00m batch_sampler \u001b[38;5;129;01mis\u001b[39;00m \u001b[38;5;28;01mNone\u001b[39;00m:\n\u001b[1;32m    355\u001b[0m     \u001b[38;5;66;03m# auto_collation without custom batch_sampler\u001b[39;00m\n\u001b[0;32m--> 356\u001b[0m     batch_sampler \u001b[38;5;241m=\u001b[39m BatchSampler(sampler, batch_size, drop_last)\n\u001b[1;32m    358\u001b[0m \u001b[38;5;28mself\u001b[39m\u001b[38;5;241m.\u001b[39mbatch_size \u001b[38;5;241m=\u001b[39m batch_size\n\u001b[1;32m    359\u001b[0m \u001b[38;5;28mself\u001b[39m\u001b[38;5;241m.\u001b[39mdrop_last \u001b[38;5;241m=\u001b[39m drop_last\n",
      "File \u001b[0;32m~/anaconda3/envs/drum-tracker/lib/python3.12/site-packages/torch/utils/data/sampler.py:267\u001b[0m, in \u001b[0;36mBatchSampler.__init__\u001b[0;34m(self, sampler, batch_size, drop_last)\u001b[0m\n\u001b[1;32m    261\u001b[0m \u001b[38;5;28;01mdef\u001b[39;00m \u001b[38;5;21m__init__\u001b[39m(\u001b[38;5;28mself\u001b[39m, sampler: Union[Sampler[\u001b[38;5;28mint\u001b[39m], Iterable[\u001b[38;5;28mint\u001b[39m]], batch_size: \u001b[38;5;28mint\u001b[39m, drop_last: \u001b[38;5;28mbool\u001b[39m) \u001b[38;5;241m-\u001b[39m\u001b[38;5;241m>\u001b[39m \u001b[38;5;28;01mNone\u001b[39;00m:\n\u001b[1;32m    262\u001b[0m     \u001b[38;5;66;03m# Since collections.abc.Iterable does not check for `__getitem__`, which\u001b[39;00m\n\u001b[1;32m    263\u001b[0m     \u001b[38;5;66;03m# is one way for an object to be an iterable, we don't do an `isinstance`\u001b[39;00m\n\u001b[1;32m    264\u001b[0m     \u001b[38;5;66;03m# check here.\u001b[39;00m\n\u001b[1;32m    265\u001b[0m     \u001b[38;5;28;01mif\u001b[39;00m \u001b[38;5;129;01mnot\u001b[39;00m \u001b[38;5;28misinstance\u001b[39m(batch_size, \u001b[38;5;28mint\u001b[39m) \u001b[38;5;129;01mor\u001b[39;00m \u001b[38;5;28misinstance\u001b[39m(batch_size, \u001b[38;5;28mbool\u001b[39m) \u001b[38;5;129;01mor\u001b[39;00m \\\n\u001b[1;32m    266\u001b[0m             batch_size \u001b[38;5;241m<\u001b[39m\u001b[38;5;241m=\u001b[39m \u001b[38;5;241m0\u001b[39m:\n\u001b[0;32m--> 267\u001b[0m         \u001b[38;5;28;01mraise\u001b[39;00m \u001b[38;5;167;01mValueError\u001b[39;00m(\u001b[38;5;124mf\u001b[39m\u001b[38;5;124m\"\u001b[39m\u001b[38;5;124mbatch_size should be a positive integer value, but got batch_size=\u001b[39m\u001b[38;5;132;01m{\u001b[39;00mbatch_size\u001b[38;5;132;01m}\u001b[39;00m\u001b[38;5;124m\"\u001b[39m)\n\u001b[1;32m    268\u001b[0m     \u001b[38;5;28;01mif\u001b[39;00m \u001b[38;5;129;01mnot\u001b[39;00m \u001b[38;5;28misinstance\u001b[39m(drop_last, \u001b[38;5;28mbool\u001b[39m):\n\u001b[1;32m    269\u001b[0m         \u001b[38;5;28;01mraise\u001b[39;00m \u001b[38;5;167;01mValueError\u001b[39;00m(\u001b[38;5;124mf\u001b[39m\u001b[38;5;124m\"\u001b[39m\u001b[38;5;124mdrop_last should be a boolean value, but got drop_last=\u001b[39m\u001b[38;5;132;01m{\u001b[39;00mdrop_last\u001b[38;5;132;01m}\u001b[39;00m\u001b[38;5;124m\"\u001b[39m)\n",
      "\u001b[0;31mValueError\u001b[0m: batch_size should be a positive integer value, but got batch_size=(32,)"
     ]
    }
   ],
   "source": [
    "trainer.train_model()"
   ]
  },
  {
   "cell_type": "code",
   "execution_count": null,
   "metadata": {},
   "outputs": [],
   "source": [
    "mel_spec_trans = T.MelSpectrogram(\n",
    "    sample_rate = 16000,\n",
    "    n_fft = 256,\n",
    "    hop_length = 256 // 8,\n",
    "    n_mels = 256\n",
    ")"
   ]
  },
  {
   "cell_type": "code",
   "execution_count": null,
   "metadata": {},
   "outputs": [],
   "source": [
    "signal, rate = torchaudio.load('data/clean/hi-hat_001.wav')\n",
    "print(signal.size())\n",
    "print(f'Rate = {rate}')"
   ]
  },
  {
   "cell_type": "code",
   "execution_count": null,
   "metadata": {},
   "outputs": [],
   "source": [
    "mel_spec = mel_spec_trans(signal).unsqueeze(0)\n",
    "input_size = torch.tensor(mel_spec.size())\n",
    "input_size"
   ]
  },
  {
   "cell_type": "code",
   "execution_count": null,
   "metadata": {},
   "outputs": [],
   "source": [
    "eda.plot_spectrogram(mel_spec.squeeze(0).squeeze(0))"
   ]
  },
  {
   "cell_type": "code",
   "execution_count": null,
   "metadata": {},
   "outputs": [],
   "source": [
    "conv1 = nn.Conv2d(\n",
    "            in_channels = 1,\n",
    "            out_channels = 16,\n",
    "            kernel_size = 3,\n",
    "            stride = 1,\n",
    "            padding = 2\n",
    "        )\n",
    "\n",
    "conv2 = nn.Conv2d(\n",
    "            in_channels = 16,\n",
    "            out_channels = 32,\n",
    "            kernel_size = 3,\n",
    "            stride = 1,\n",
    "            padding = 2\n",
    "        )\n",
    "\n",
    "conv3 = nn.Conv2d(\n",
    "            in_channels = 32,\n",
    "            out_channels = 64,\n",
    "            kernel_size = 3,\n",
    "            stride = 1,\n",
    "            padding = 2\n",
    "        )\n",
    "\n",
    "conv4 = nn.Conv2d(\n",
    "            in_channels = 64,\n",
    "            out_channels = 128,\n",
    "            kernel_size = 3,\n",
    "            stride = 1,\n",
    "            padding = 2\n",
    "        )\n",
    "\n",
    "relu = nn.ReLU()\n",
    "maxpool =  nn.MaxPool2d(kernel_size=2)\n",
    "\n",
    "flatten = nn.Flatten()\n",
    "\n",
    "linear1 = nn.Linear(in_features=4352, out_features=128)\n",
    "linear2 = nn.Linear(in_features=128, out_features=16)\n",
    "linear3 = nn.Linear(in_features=16, out_features=3)\n",
    "\n",
    "output = maxpool(relu(conv1(mel_spec)))\n",
    "print(f'Conv1 Ouput = {output.size()}')\n",
    "\n",
    "output = maxpool(relu(conv2(output)))\n",
    "print(f'Conv2 Ouput = {output.size()}')\n",
    "\n",
    "output = maxpool(relu(conv3(output)))\n",
    "print(f'Conv3 Ouput = {output.size()}')\n",
    "\n",
    "output = maxpool(relu(conv4(output)))\n",
    "print(f'Conv4 Ouput = {output.size()}')\n",
    "print(output.size()[1] * output.size()[2] * output.size()[3])\n",
    "\n",
    "output = flatten(output)\n",
    "print(f'Flatten Output = {output.size()}')\n",
    "\n",
    "output = linear1(output)\n",
    "print(f'Linear1 Output = {output.size()}')\n",
    "\n",
    "output = linear2(output)\n",
    "print(f'Linear2 Output = {output.size()}')\n",
    "\n",
    "output = linear3(output)\n",
    "print(f'Linear3 Output = {output.size()}')"
   ]
  },
  {
   "cell_type": "code",
   "execution_count": null,
   "metadata": {},
   "outputs": [],
   "source": [
    "dataset.__getitem__(0)"
   ]
  }
 ],
 "metadata": {
  "kernelspec": {
   "display_name": "drum-tracker",
   "language": "python",
   "name": "python3"
  },
  "language_info": {
   "codemirror_mode": {
    "name": "ipython",
    "version": 3
   },
   "file_extension": ".py",
   "mimetype": "text/x-python",
   "name": "python",
   "nbconvert_exporter": "python",
   "pygments_lexer": "ipython3",
   "version": "3.12.2"
  }
 },
 "nbformat": 4,
 "nbformat_minor": 2
}
